{
 "cells": [
  {
   "cell_type": "code",
   "execution_count": 3,
   "id": "22c2788b",
   "metadata": {},
   "outputs": [
    {
     "name": "stdout",
     "output_type": "stream",
     "text": [
      "The autoreload extension is already loaded. To reload it, use:\n",
      "  %reload_ext autoreload\n"
     ]
    }
   ],
   "source": [
    "import sys,os\n",
    "\n",
    "import pyglet\n",
    "pyglet.options['shadow_window'] = True\n",
    "\n",
    "import pyrender#to display mesh\n",
    "\n",
    "import trimesh#to load mesh\n",
    "import igl\n",
    "\n",
    "import matplotlib\n",
    "import matplotlib.pyplot as plt\n",
    "\n",
    "import numpy as np\n",
    "from sklearn.neighbors import KDTree\n",
    "\n",
    "from ICP_functions import *\n",
    "\n",
    "%load_ext autoreload\n",
    "%autoreload 2"
   ]
  },
  {
   "cell_type": "code",
   "execution_count": 4,
   "id": "c0ef4ed1",
   "metadata": {},
   "outputs": [],
   "source": [
    "#Make obj files for each model.\n",
    "ply_filenames=['bunny_v2/bun000_v2.obj','bunny_v2/bun045_v2.obj']\n",
    "make_obj_test_files(ply_filenames)\n",
    "n_models=len(ply_filenames)"
   ]
  },
  {
   "cell_type": "code",
   "execution_count": 5,
   "id": "8b8a5b6d",
   "metadata": {},
   "outputs": [],
   "source": [
    "#Render each model as a pointcloud.\n",
    "colors=[(0.0,0.0,1.0),(0.0,1.0,0.0)]\n",
    "file_paths=['M1.obj','M2.obj']\n",
    "tms=[]\n",
    "mesh_rds=[]\n",
    "for i in range(n_models):\n",
    "    fp=file_paths[i]\n",
    "    tm = trimesh.load_mesh(fp)#load mesh\n",
    "    surface_points = tm.sample(20000)#sample points for a point cloud\n",
    "    mesh_rd = pyrender.Mesh.from_points(surface_points, colors[i])#make a point cloud object\n",
    "    tms.append(tm)\n",
    "    mesh_rds.append(mesh_rd)\n",
    "    \n",
    "show_mesh_gui(mesh_rds)#Display pointclouds."
   ]
  },
  {
   "cell_type": "code",
   "execution_count": 6,
   "id": "aff02e63",
   "metadata": {},
   "outputs": [
    {
     "name": "stdout",
     "output_type": "stream",
     "text": [
      "ICP converged after 32 iterations.\n"
     ]
    }
   ],
   "source": [
    "#Select points to use for ICP. Better to use more points than I used for the renders.\n",
    "#Can use either vertices, points sampled from the mesh.\n",
    "\n",
    "#P=tms[0].sample(50000)\n",
    "#Q=tms[1].sample(50000)\n",
    "P,f_P=igl.read_triangle_mesh('M1.obj')\n",
    "Q,f_Q=igl.read_triangle_mesh('M2.obj')\n",
    "\n",
    "#Perform ICP.\n",
    "total_R,total_t,mse_losses,iterations = ICP(P,Q,max_n=200,tol=1e-8)"
   ]
  },
  {
   "cell_type": "code",
   "execution_count": 7,
   "id": "981c867f",
   "metadata": {},
   "outputs": [
    {
     "data": {
      "image/png": "[encoded data removed]",
      "text/plain": [
       "<Figure size 500x200 with 1 Axes>"
      ]
     },
     "metadata": {},
     "output_type": "display_data"
    }
   ],
   "source": [
    "#Plot convergence behaviour.\n",
    "fig,ax=plt.subplots(1,1,figsize=(5,2))\n",
    "ax.plot(mse_losses)\n",
    "ax.set_title('ICP Convergence Behaviour')\n",
    "ax.set_xlabel('iteration number')\n",
    "ax.set_ylabel('MSE')\n",
    "plt.show()"
   ]
  },
  {
   "cell_type": "code",
   "execution_count": 34,
   "id": "2e9039bb",
   "metadata": {},
   "outputs": [],
   "source": [
    "M2_v, M2_f = igl.read_triangle_mesh('M2.obj')#Get vertices and faces of M2.\n",
    "realigned_M2_v = (total_R@(M2_v.T)).T + total_t.T#Perform the transformation on M2.\n",
    "ret=igl.write_triangle_mesh(\"aligned_M2.obj\", realigned_M2_v,M2_f)#Save the aligned mesh.\n",
    "\n",
    "#Render M1 and aligned version of M2 as pointclouds.\n",
    "colors=[(0.0,0.0,1.0),(0.0,1.0,0.0)]\n",
    "file_paths=['M1.obj','aligned_M2.obj']\n",
    "tms=[]\n",
    "mesh_rds=[]\n",
    "surface_points_list=[]\n",
    "for i in range(n_models):\n",
    "    fp=file_paths[i]\n",
    "    tm = trimesh.load_mesh(fp)#load mesh\n",
    "    surface_points = tm.sample(20000)#sample points for a point cloud\n",
    "    mesh_rd = pyrender.Mesh.from_points(surface_points, colors[i])#make a point cloud object\n",
    "    tms.append(tm)\n",
    "    mesh_rds.append(mesh_rd)\n",
    "    surface_points_list.append(surface_points)\n",
    "    \n",
    "show_mesh_gui(mesh_rds)#Display pointclouds."
   ]
  },
  {
   "cell_type": "code",
   "execution_count": 36,
   "id": "7b946c38",
   "metadata": {},
   "outputs": [],
   "source": [
    "#Mark out non-overlapping regions on both models.\n",
    "\n",
    "new_mesh_rds=mesh_rds\n",
    "overlap_tol=2#Reduce tolerance for a stricter definition of overlap.\n",
    "\n",
    "#colour points in P as blue, or black if that part of the mesh doesn't overlap with P.\n",
    "M2_tree = KDTree(surface_points_list[1])\n",
    "dist,ind = M2_tree.query(surface_points_list[0],k=1)\n",
    "filter_array = dist>overlap_tol*np.median(dist)\n",
    "colours=(np.ones_like(surface_points_list[0])*filter_array*(0.0,0.0,0.0) +\n",
    "np.ones_like(surface_points_list[0])*(1.0-filter_array)*(0.0,0.0,1.0))\n",
    "mesh_rd = pyrender.Mesh.from_points(surface_points_list[0], colours)#make a point cloud object\n",
    "new_mesh_rds[0]=mesh_rd\n",
    "\n",
    "#colour points in M2 as green, or orange if that part of the mesh doesn't overlap with M1.\n",
    "M1_tree = KDTree(surface_points_list[0])\n",
    "dist,ind = M1_tree.query(surface_points_list[1],k=1)\n",
    "filter_array = dist>overlap_tol*np.median(dist)\n",
    "colours=(np.ones_like(surface_points_list[1])*filter_array*(1.0,0.3,0.0) +\n",
    "np.ones_like(surface_points_list[1])*(1.0-filter_array)*(0.0,1.0,0.0))\n",
    "mesh_rd = pyrender.Mesh.from_points(surface_points_list[1], colours)#make a point cloud object\n",
    "new_mesh_rds[1]=mesh_rd\n",
    "\n",
    "show_mesh_gui(new_mesh_rds)#Display mesh or pointcloud.\n"
   ]
  },
  {
   "cell_type": "code",
   "execution_count": null,
   "id": "484c57f2",
   "metadata": {},
   "outputs": [],
   "source": []
  }
 ],
 "metadata": {
  "kernelspec": {
   "display_name": "Python 3 (ipykernel)",
   "language": "python",
   "name": "python3"
  },
  "language_info": {
   "codemirror_mode": {
    "name": "ipython",
    "version": 3
   },
   "file_extension": ".py",
   "mimetype": "text/x-python",
   "name": "python",
   "nbconvert_exporter": "python",
   "pygments_lexer": "ipython3",
   "version": "3.9.16"
  }
 },
 "nbformat": 4,
 "nbformat_minor": 5
}
