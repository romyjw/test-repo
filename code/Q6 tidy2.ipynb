{
 "cells": [
  {
   "cell_type": "code",
   "execution_count": 97,
   "id": "22c2788b",
   "metadata": {},
   "outputs": [
    {
     "name": "stdout",
     "output_type": "stream",
     "text": [
      "The autoreload extension is already loaded. To reload it, use:\n",
      "  %reload_ext autoreload\n"
     ]
    }
   ],
   "source": [
    "import sys,os\n",
    "\n",
    "import pyglet\n",
    "pyglet.options['shadow_window'] = True\n",
    "\n",
    "import pyrender#to display mesh\n",
    "\n",
    "import trimesh#to load mesh\n",
    "import igl\n",
    "\n",
    "import matplotlib\n",
    "import matplotlib.pyplot as plt\n",
    "\n",
    "import numpy as np\n",
    "from sklearn.neighbors import KDTree\n",
    "\n",
    "from ICP_functions import *\n",
    "\n",
    "%load_ext autoreload\n",
    "%autoreload 2"
   ]
  },
  {
   "cell_type": "code",
   "execution_count": 98,
   "id": "c0ef4ed1",
   "metadata": {},
   "outputs": [],
   "source": [
    "#Make obj files for each model.\n",
    "ply_filenames=['bunny_v2/bun000_v2.obj','bunny_v2/bun045_v2.obj']\n",
    "make_obj_test_files(ply_filenames)\n",
    "n_models=len(ply_filenames)"
   ]
  },
  {
   "cell_type": "code",
   "execution_count": 99,
   "id": "8b8a5b6d",
   "metadata": {},
   "outputs": [],
   "source": [
    "#Render each model as a pointcloud.\n",
    "colors=[(0.0,0.0,1.0),(0.0,1.0,0.0)]\n",
    "file_paths=['M1.obj','M2.obj']\n",
    "tms=[]\n",
    "mesh_rds=[]\n",
    "for i in range(n_models):\n",
    "    fp=file_paths[i]\n",
    "    tm = trimesh.load_mesh(fp)#load mesh\n",
    "    surface_points = tm.sample(20000)#sample points for a point cloud\n",
    "    mesh_rd = pyrender.Mesh.from_points(surface_points, colors[i])#make a point cloud object\n",
    "    tms.append(tm)\n",
    "    mesh_rds.append(mesh_rd)\n",
    "    \n",
    "show_mesh_gui(mesh_rds)#Display pointclouds."
   ]
  },
  {
   "cell_type": "code",
   "execution_count": 103,
   "id": "aff02e63",
   "metadata": {},
   "outputs": [
    {
     "name": "stdout",
     "output_type": "stream",
     "text": [
      "ICP did not converge after 5 iterations.\n",
      "ICP converged after 6 iterations.\n"
     ]
    }
   ],
   "source": [
    "#Select points to use for ICP. Better to use more points than I used for the renders.\n",
    "#Can use either vertices, points sampled from the mesh.\n",
    "\n",
    "#P=tms[0].sample(50000)\n",
    "#Q=tms[1].sample(50000)\n",
    "P,f_P=igl.read_triangle_mesh('M1.obj')\n",
    "Q,f_Q=igl.read_triangle_mesh('M2.obj')\n",
    "\n",
    "\n",
    "#Just usual ICP:\n",
    "#R,t,mse_losses,iterations = ICP(P,Q,max_n=5,tol=1e-8)\n",
    "#Just PTP ICP:\n",
    "#total_R,total_t,mse_losses,iterations = point_to_plane_ICP(P,Q,max_n=100,tol=1e-8)\n",
    "#Both:\n",
    "\n",
    "\n",
    "R,t,mse_losses,iterations = ICP(P,Q,max_n=5,tol=1e-8)\n",
    "Q = (R@Q.T).T + t.T\n",
    "total_R,total_t,mse_lossesPTP,iterationsPTP = point_to_plane_ICP(P,Q,max_n=100,tol=1e-8)"
   ]
  },
  {
   "cell_type": "code",
   "execution_count": 101,
   "id": "981c867f",
   "metadata": {},
   "outputs": [
    {
     "data": {
      "image/png": "[encoded data removed]",
      "text/plain": [
       "<Figure size 500x200 with 1 Axes>"
      ]
     },
     "metadata": {},
     "output_type": "display_data"
    }
   ],
   "source": [
    "#Plot convergence behaviour.\n",
    "fig,ax=plt.subplots(1,1,figsize=(5,2))\n",
    "ax.plot(mse_losses)\n",
    "ax.set_title('ICP Convergence Behaviour')\n",
    "ax.set_xlabel('iteration number')\n",
    "ax.set_ylabel('MSE')\n",
    "plt.show()"
   ]
  },
  {
   "cell_type": "code",
   "execution_count": null,
   "id": "2e9039bb",
   "metadata": {},
   "outputs": [],
   "source": [
    "M2_v, M2_f = igl.read_triangle_mesh('M2.obj')#Get vertices and faces of M2.\n",
    "initial_align_M2_v = (R@M2_v.T).T + t.T\n",
    "realigned_M2_v = (total_R@(initial_align_M2_v.T)).T + total_t.T#Perform the transformation on M2.\n",
    "ret=igl.write_triangle_mesh(\"initial_aligned_M2.obj\", initial_align_M2_v,M2_f)#Save the aligned mesh.\n",
    "ret=igl.write_triangle_mesh(\"aligned_M2.obj\", realigned_M2_v,M2_f)#Save the aligned mesh.\n",
    "\n",
    "#Render M1 and aligned version of M2 as pointclouds.\n",
    "colors=[(0.0,0.0,1.0),(0.0,1.0,0.0),(1.0,0.0,0.0)]\n",
    "file_paths=['M1.obj','aligned_M2.obj','initial_aligned_M2.obj']\n",
    "tms=[]\n",
    "mesh_rds=[]\n",
    "surface_points_list=[]\n",
    "for i in range(3):\n",
    "    fp=file_paths[i]\n",
    "    tm = trimesh.load_mesh(fp)#load mesh\n",
    "    surface_points = tm.sample(20000)#sample points for a point cloud\n",
    "    mesh_rd = pyrender.Mesh.from_points(surface_points, colors[i])#make a point cloud object\n",
    "    tms.append(tm)\n",
    "    mesh_rds.append(mesh_rd)\n",
    "    surface_points_list.append(surface_points)\n",
    "    \n",
    "show_mesh_gui([mesh_rds[0],mesh_rds[1]])#Display pointclouds.\n",
    "show_mesh_gui([mesh_rds[0],mesh_rds[2]])#Display pointclouds."
   ]
  },
  {
   "cell_type": "code",
   "execution_count": 84,
   "id": "7b946c38",
   "metadata": {},
   "outputs": [],
   "source": [
    "rd=render_from_obj('M1.obj')\n",
    "show_mesh_gui([rd])\n"
   ]
  },
  {
   "cell_type": "code",
   "execution_count": null,
   "id": "484c57f2",
   "metadata": {},
   "outputs": [],
   "source": []
  }
 ],
 "metadata": {
  "kernelspec": {
   "display_name": "Python 3 (ipykernel)",
   "language": "python",
   "name": "python3"
  },
  "language_info": {
   "codemirror_mode": {
    "name": "ipython",
    "version": 3
   },
   "file_extension": ".py",
   "mimetype": "text/x-python",
   "name": "python",
   "nbconvert_exporter": "python",
   "pygments_lexer": "ipython3",
   "version": "3.9.16"
  }
 },
 "nbformat": 4,
 "nbformat_minor": 5
}
